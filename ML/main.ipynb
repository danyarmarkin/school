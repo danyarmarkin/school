{
 "cells": [
  {
   "cell_type": "code",
   "execution_count": 1,
   "metadata": {
    "collapsed": true
   },
   "outputs": [],
   "source": [
    "import pandas as pd"
   ]
  },
  {
   "cell_type": "code",
   "execution_count": 3,
   "outputs": [
    {
     "data": {
      "text/plain": "       id   age           job  marital  education  balance housing loan  \\\n0       1  26.0    unemployed  married   tertiary      454     yes  yes   \n1       2  25.0    technician  married  secondary      517      no   no   \n2       3  36.0    technician   single  secondary     1044     yes   no   \n3       4  45.0   blue-collar  married  secondary      146     yes  yes   \n4       5  27.0    management  married   tertiary      145      no   no   \n..    ...   ...           ...      ...        ...      ...     ...  ...   \n995   996  41.0  entrepreneur  married  secondary    -1882     yes   no   \n996   997  58.0    management  married   tertiary     1271     yes   no   \n997   998  31.0      services   single  secondary      297      no   no   \n998   999  31.0  entrepreneur      NaN   tertiary      312      no   no   \n999  1000  23.0   blue-collar   single  secondary      780     yes   no   \n\n    default  \n0        no  \n1        no  \n2        no  \n3        no  \n4        no  \n..      ...  \n995      no  \n996      no  \n997      no  \n998      no  \n999      no  \n\n[1000 rows x 9 columns]",
      "text/html": "<div>\n<style scoped>\n    .dataframe tbody tr th:only-of-type {\n        vertical-align: middle;\n    }\n\n    .dataframe tbody tr th {\n        vertical-align: top;\n    }\n\n    .dataframe thead th {\n        text-align: right;\n    }\n</style>\n<table border=\"1\" class=\"dataframe\">\n  <thead>\n    <tr style=\"text-align: right;\">\n      <th></th>\n      <th>id</th>\n      <th>age</th>\n      <th>job</th>\n      <th>marital</th>\n      <th>education</th>\n      <th>balance</th>\n      <th>housing</th>\n      <th>loan</th>\n      <th>default</th>\n    </tr>\n  </thead>\n  <tbody>\n    <tr>\n      <th>0</th>\n      <td>1</td>\n      <td>26.0</td>\n      <td>unemployed</td>\n      <td>married</td>\n      <td>tertiary</td>\n      <td>454</td>\n      <td>yes</td>\n      <td>yes</td>\n      <td>no</td>\n    </tr>\n    <tr>\n      <th>1</th>\n      <td>2</td>\n      <td>25.0</td>\n      <td>technician</td>\n      <td>married</td>\n      <td>secondary</td>\n      <td>517</td>\n      <td>no</td>\n      <td>no</td>\n      <td>no</td>\n    </tr>\n    <tr>\n      <th>2</th>\n      <td>3</td>\n      <td>36.0</td>\n      <td>technician</td>\n      <td>single</td>\n      <td>secondary</td>\n      <td>1044</td>\n      <td>yes</td>\n      <td>no</td>\n      <td>no</td>\n    </tr>\n    <tr>\n      <th>3</th>\n      <td>4</td>\n      <td>45.0</td>\n      <td>blue-collar</td>\n      <td>married</td>\n      <td>secondary</td>\n      <td>146</td>\n      <td>yes</td>\n      <td>yes</td>\n      <td>no</td>\n    </tr>\n    <tr>\n      <th>4</th>\n      <td>5</td>\n      <td>27.0</td>\n      <td>management</td>\n      <td>married</td>\n      <td>tertiary</td>\n      <td>145</td>\n      <td>no</td>\n      <td>no</td>\n      <td>no</td>\n    </tr>\n    <tr>\n      <th>...</th>\n      <td>...</td>\n      <td>...</td>\n      <td>...</td>\n      <td>...</td>\n      <td>...</td>\n      <td>...</td>\n      <td>...</td>\n      <td>...</td>\n      <td>...</td>\n    </tr>\n    <tr>\n      <th>995</th>\n      <td>996</td>\n      <td>41.0</td>\n      <td>entrepreneur</td>\n      <td>married</td>\n      <td>secondary</td>\n      <td>-1882</td>\n      <td>yes</td>\n      <td>no</td>\n      <td>no</td>\n    </tr>\n    <tr>\n      <th>996</th>\n      <td>997</td>\n      <td>58.0</td>\n      <td>management</td>\n      <td>married</td>\n      <td>tertiary</td>\n      <td>1271</td>\n      <td>yes</td>\n      <td>no</td>\n      <td>no</td>\n    </tr>\n    <tr>\n      <th>997</th>\n      <td>998</td>\n      <td>31.0</td>\n      <td>services</td>\n      <td>single</td>\n      <td>secondary</td>\n      <td>297</td>\n      <td>no</td>\n      <td>no</td>\n      <td>no</td>\n    </tr>\n    <tr>\n      <th>998</th>\n      <td>999</td>\n      <td>31.0</td>\n      <td>entrepreneur</td>\n      <td>NaN</td>\n      <td>tertiary</td>\n      <td>312</td>\n      <td>no</td>\n      <td>no</td>\n      <td>no</td>\n    </tr>\n    <tr>\n      <th>999</th>\n      <td>1000</td>\n      <td>23.0</td>\n      <td>blue-collar</td>\n      <td>single</td>\n      <td>secondary</td>\n      <td>780</td>\n      <td>yes</td>\n      <td>no</td>\n      <td>no</td>\n    </tr>\n  </tbody>\n</table>\n<p>1000 rows × 9 columns</p>\n</div>"
     },
     "execution_count": 3,
     "metadata": {},
     "output_type": "execute_result"
    }
   ],
   "source": [
    "df = pd.read_excel('partner_data.xlsx', sheet_name='partner_data1', header=0)\n",
    "df"
   ],
   "metadata": {
    "collapsed": false,
    "pycharm": {
     "name": "#%%\n"
    }
   }
  },
  {
   "cell_type": "code",
   "execution_count": 5,
   "outputs": [
    {
     "data": {
      "text/plain": "    id   age          job   marital  education  balance housing loan default\n0    1  26.0   unemployed   married   tertiary      454     yes  yes      no\n1    2  25.0   technician   married  secondary      517      no   no      no\n2    3  36.0   technician    single  secondary     1044     yes   no      no\n3    4  45.0  blue-collar   married  secondary      146     yes  yes      no\n4    5  27.0   management   married   tertiary      145      no   no      no\n5    6  45.0   unemployed  divorced    primary       11      no   no     yes\n6    7  35.0   management   married   tertiary      298     yes   no      no\n7    8  27.0   technician    single  secondary      905     yes  yes      no\n8    9   NaN   management   married   tertiary     -485     yes   no     yes\n9   10  32.0   unemployed   married  secondary       10     yes   no      no\n10  11  46.0  blue-collar   married  secondary       78     yes  yes      no\n11  12  53.0   management   married   tertiary        0      no   no      no\n12  13  32.0   management    single   tertiary      223      no   no      no\n13  14  34.0      student       NaN   tertiary      387     yes   no      no\n14  15  58.0   management   married   tertiary       96      no   no      no\n15  16  77.0      retired   married   tertiary        0      no   no      no\n16  17  31.0  blue-collar    single  secondary     -161      no   no      no\n17  18  47.0  blue-collar       NaN  secondary     3630     yes   no      no\n18  19   NaN  blue-collar   married  secondary      302      no  yes      no\n19  20  47.0  blue-collar   married    primary     1452     yes  yes      no",
      "text/html": "<div>\n<style scoped>\n    .dataframe tbody tr th:only-of-type {\n        vertical-align: middle;\n    }\n\n    .dataframe tbody tr th {\n        vertical-align: top;\n    }\n\n    .dataframe thead th {\n        text-align: right;\n    }\n</style>\n<table border=\"1\" class=\"dataframe\">\n  <thead>\n    <tr style=\"text-align: right;\">\n      <th></th>\n      <th>id</th>\n      <th>age</th>\n      <th>job</th>\n      <th>marital</th>\n      <th>education</th>\n      <th>balance</th>\n      <th>housing</th>\n      <th>loan</th>\n      <th>default</th>\n    </tr>\n  </thead>\n  <tbody>\n    <tr>\n      <th>0</th>\n      <td>1</td>\n      <td>26.0</td>\n      <td>unemployed</td>\n      <td>married</td>\n      <td>tertiary</td>\n      <td>454</td>\n      <td>yes</td>\n      <td>yes</td>\n      <td>no</td>\n    </tr>\n    <tr>\n      <th>1</th>\n      <td>2</td>\n      <td>25.0</td>\n      <td>technician</td>\n      <td>married</td>\n      <td>secondary</td>\n      <td>517</td>\n      <td>no</td>\n      <td>no</td>\n      <td>no</td>\n    </tr>\n    <tr>\n      <th>2</th>\n      <td>3</td>\n      <td>36.0</td>\n      <td>technician</td>\n      <td>single</td>\n      <td>secondary</td>\n      <td>1044</td>\n      <td>yes</td>\n      <td>no</td>\n      <td>no</td>\n    </tr>\n    <tr>\n      <th>3</th>\n      <td>4</td>\n      <td>45.0</td>\n      <td>blue-collar</td>\n      <td>married</td>\n      <td>secondary</td>\n      <td>146</td>\n      <td>yes</td>\n      <td>yes</td>\n      <td>no</td>\n    </tr>\n    <tr>\n      <th>4</th>\n      <td>5</td>\n      <td>27.0</td>\n      <td>management</td>\n      <td>married</td>\n      <td>tertiary</td>\n      <td>145</td>\n      <td>no</td>\n      <td>no</td>\n      <td>no</td>\n    </tr>\n    <tr>\n      <th>5</th>\n      <td>6</td>\n      <td>45.0</td>\n      <td>unemployed</td>\n      <td>divorced</td>\n      <td>primary</td>\n      <td>11</td>\n      <td>no</td>\n      <td>no</td>\n      <td>yes</td>\n    </tr>\n    <tr>\n      <th>6</th>\n      <td>7</td>\n      <td>35.0</td>\n      <td>management</td>\n      <td>married</td>\n      <td>tertiary</td>\n      <td>298</td>\n      <td>yes</td>\n      <td>no</td>\n      <td>no</td>\n    </tr>\n    <tr>\n      <th>7</th>\n      <td>8</td>\n      <td>27.0</td>\n      <td>technician</td>\n      <td>single</td>\n      <td>secondary</td>\n      <td>905</td>\n      <td>yes</td>\n      <td>yes</td>\n      <td>no</td>\n    </tr>\n    <tr>\n      <th>8</th>\n      <td>9</td>\n      <td>NaN</td>\n      <td>management</td>\n      <td>married</td>\n      <td>tertiary</td>\n      <td>-485</td>\n      <td>yes</td>\n      <td>no</td>\n      <td>yes</td>\n    </tr>\n    <tr>\n      <th>9</th>\n      <td>10</td>\n      <td>32.0</td>\n      <td>unemployed</td>\n      <td>married</td>\n      <td>secondary</td>\n      <td>10</td>\n      <td>yes</td>\n      <td>no</td>\n      <td>no</td>\n    </tr>\n    <tr>\n      <th>10</th>\n      <td>11</td>\n      <td>46.0</td>\n      <td>blue-collar</td>\n      <td>married</td>\n      <td>secondary</td>\n      <td>78</td>\n      <td>yes</td>\n      <td>yes</td>\n      <td>no</td>\n    </tr>\n    <tr>\n      <th>11</th>\n      <td>12</td>\n      <td>53.0</td>\n      <td>management</td>\n      <td>married</td>\n      <td>tertiary</td>\n      <td>0</td>\n      <td>no</td>\n      <td>no</td>\n      <td>no</td>\n    </tr>\n    <tr>\n      <th>12</th>\n      <td>13</td>\n      <td>32.0</td>\n      <td>management</td>\n      <td>single</td>\n      <td>tertiary</td>\n      <td>223</td>\n      <td>no</td>\n      <td>no</td>\n      <td>no</td>\n    </tr>\n    <tr>\n      <th>13</th>\n      <td>14</td>\n      <td>34.0</td>\n      <td>student</td>\n      <td>NaN</td>\n      <td>tertiary</td>\n      <td>387</td>\n      <td>yes</td>\n      <td>no</td>\n      <td>no</td>\n    </tr>\n    <tr>\n      <th>14</th>\n      <td>15</td>\n      <td>58.0</td>\n      <td>management</td>\n      <td>married</td>\n      <td>tertiary</td>\n      <td>96</td>\n      <td>no</td>\n      <td>no</td>\n      <td>no</td>\n    </tr>\n    <tr>\n      <th>15</th>\n      <td>16</td>\n      <td>77.0</td>\n      <td>retired</td>\n      <td>married</td>\n      <td>tertiary</td>\n      <td>0</td>\n      <td>no</td>\n      <td>no</td>\n      <td>no</td>\n    </tr>\n    <tr>\n      <th>16</th>\n      <td>17</td>\n      <td>31.0</td>\n      <td>blue-collar</td>\n      <td>single</td>\n      <td>secondary</td>\n      <td>-161</td>\n      <td>no</td>\n      <td>no</td>\n      <td>no</td>\n    </tr>\n    <tr>\n      <th>17</th>\n      <td>18</td>\n      <td>47.0</td>\n      <td>blue-collar</td>\n      <td>NaN</td>\n      <td>secondary</td>\n      <td>3630</td>\n      <td>yes</td>\n      <td>no</td>\n      <td>no</td>\n    </tr>\n    <tr>\n      <th>18</th>\n      <td>19</td>\n      <td>NaN</td>\n      <td>blue-collar</td>\n      <td>married</td>\n      <td>secondary</td>\n      <td>302</td>\n      <td>no</td>\n      <td>yes</td>\n      <td>no</td>\n    </tr>\n    <tr>\n      <th>19</th>\n      <td>20</td>\n      <td>47.0</td>\n      <td>blue-collar</td>\n      <td>married</td>\n      <td>primary</td>\n      <td>1452</td>\n      <td>yes</td>\n      <td>yes</td>\n      <td>no</td>\n    </tr>\n  </tbody>\n</table>\n</div>"
     },
     "execution_count": 5,
     "metadata": {},
     "output_type": "execute_result"
    }
   ],
   "source": [
    "df.head(20)"
   ],
   "metadata": {
    "collapsed": false,
    "pycharm": {
     "name": "#%%\n"
    }
   }
  },
  {
   "cell_type": "code",
   "execution_count": 6,
   "outputs": [
    {
     "data": {
      "text/plain": "       id   age           job marital  education  balance housing loan default\n997   998  31.0      services  single  secondary      297      no   no      no\n998   999  31.0  entrepreneur     NaN   tertiary      312      no   no      no\n999  1000  23.0   blue-collar  single  secondary      780     yes   no      no",
      "text/html": "<div>\n<style scoped>\n    .dataframe tbody tr th:only-of-type {\n        vertical-align: middle;\n    }\n\n    .dataframe tbody tr th {\n        vertical-align: top;\n    }\n\n    .dataframe thead th {\n        text-align: right;\n    }\n</style>\n<table border=\"1\" class=\"dataframe\">\n  <thead>\n    <tr style=\"text-align: right;\">\n      <th></th>\n      <th>id</th>\n      <th>age</th>\n      <th>job</th>\n      <th>marital</th>\n      <th>education</th>\n      <th>balance</th>\n      <th>housing</th>\n      <th>loan</th>\n      <th>default</th>\n    </tr>\n  </thead>\n  <tbody>\n    <tr>\n      <th>997</th>\n      <td>998</td>\n      <td>31.0</td>\n      <td>services</td>\n      <td>single</td>\n      <td>secondary</td>\n      <td>297</td>\n      <td>no</td>\n      <td>no</td>\n      <td>no</td>\n    </tr>\n    <tr>\n      <th>998</th>\n      <td>999</td>\n      <td>31.0</td>\n      <td>entrepreneur</td>\n      <td>NaN</td>\n      <td>tertiary</td>\n      <td>312</td>\n      <td>no</td>\n      <td>no</td>\n      <td>no</td>\n    </tr>\n    <tr>\n      <th>999</th>\n      <td>1000</td>\n      <td>23.0</td>\n      <td>blue-collar</td>\n      <td>single</td>\n      <td>secondary</td>\n      <td>780</td>\n      <td>yes</td>\n      <td>no</td>\n      <td>no</td>\n    </tr>\n  </tbody>\n</table>\n</div>"
     },
     "execution_count": 6,
     "metadata": {},
     "output_type": "execute_result"
    }
   ],
   "source": [
    "df.tail(3)"
   ],
   "metadata": {
    "collapsed": false,
    "pycharm": {
     "name": "#%%\n"
    }
   }
  },
  {
   "cell_type": "code",
   "execution_count": 7,
   "outputs": [
    {
     "data": {
      "text/plain": "       id   age           job  marital  education  balance housing loan  \\\n0       1  26.0    unemployed  married   tertiary      454     yes  yes   \n1       2  25.0    technician  married  secondary      517      no   no   \n2       3  36.0    technician   single  secondary     1044     yes   no   \n3       4  45.0   blue-collar  married  secondary      146     yes  yes   \n4       5  27.0    management  married   tertiary      145      no   no   \n..    ...   ...           ...      ...        ...      ...     ...  ...   \n995   996  41.0  entrepreneur  married  secondary    -1882     yes   no   \n996   997  58.0    management  married   tertiary     1271     yes   no   \n997   998  31.0      services   single  secondary      297      no   no   \n998   999  31.0  entrepreneur      NaN   tertiary      312      no   no   \n999  1000  23.0   blue-collar   single  secondary      780     yes   no   \n\n    default  \n0        no  \n1        no  \n2        no  \n3        no  \n4        no  \n..      ...  \n995      no  \n996      no  \n997      no  \n998      no  \n999      no  \n\n[1000 rows x 9 columns]",
      "text/html": "<div>\n<style scoped>\n    .dataframe tbody tr th:only-of-type {\n        vertical-align: middle;\n    }\n\n    .dataframe tbody tr th {\n        vertical-align: top;\n    }\n\n    .dataframe thead th {\n        text-align: right;\n    }\n</style>\n<table border=\"1\" class=\"dataframe\">\n  <thead>\n    <tr style=\"text-align: right;\">\n      <th></th>\n      <th>id</th>\n      <th>age</th>\n      <th>job</th>\n      <th>marital</th>\n      <th>education</th>\n      <th>balance</th>\n      <th>housing</th>\n      <th>loan</th>\n      <th>default</th>\n    </tr>\n  </thead>\n  <tbody>\n    <tr>\n      <th>0</th>\n      <td>1</td>\n      <td>26.0</td>\n      <td>unemployed</td>\n      <td>married</td>\n      <td>tertiary</td>\n      <td>454</td>\n      <td>yes</td>\n      <td>yes</td>\n      <td>no</td>\n    </tr>\n    <tr>\n      <th>1</th>\n      <td>2</td>\n      <td>25.0</td>\n      <td>technician</td>\n      <td>married</td>\n      <td>secondary</td>\n      <td>517</td>\n      <td>no</td>\n      <td>no</td>\n      <td>no</td>\n    </tr>\n    <tr>\n      <th>2</th>\n      <td>3</td>\n      <td>36.0</td>\n      <td>technician</td>\n      <td>single</td>\n      <td>secondary</td>\n      <td>1044</td>\n      <td>yes</td>\n      <td>no</td>\n      <td>no</td>\n    </tr>\n    <tr>\n      <th>3</th>\n      <td>4</td>\n      <td>45.0</td>\n      <td>blue-collar</td>\n      <td>married</td>\n      <td>secondary</td>\n      <td>146</td>\n      <td>yes</td>\n      <td>yes</td>\n      <td>no</td>\n    </tr>\n    <tr>\n      <th>4</th>\n      <td>5</td>\n      <td>27.0</td>\n      <td>management</td>\n      <td>married</td>\n      <td>tertiary</td>\n      <td>145</td>\n      <td>no</td>\n      <td>no</td>\n      <td>no</td>\n    </tr>\n    <tr>\n      <th>...</th>\n      <td>...</td>\n      <td>...</td>\n      <td>...</td>\n      <td>...</td>\n      <td>...</td>\n      <td>...</td>\n      <td>...</td>\n      <td>...</td>\n      <td>...</td>\n    </tr>\n    <tr>\n      <th>995</th>\n      <td>996</td>\n      <td>41.0</td>\n      <td>entrepreneur</td>\n      <td>married</td>\n      <td>secondary</td>\n      <td>-1882</td>\n      <td>yes</td>\n      <td>no</td>\n      <td>no</td>\n    </tr>\n    <tr>\n      <th>996</th>\n      <td>997</td>\n      <td>58.0</td>\n      <td>management</td>\n      <td>married</td>\n      <td>tertiary</td>\n      <td>1271</td>\n      <td>yes</td>\n      <td>no</td>\n      <td>no</td>\n    </tr>\n    <tr>\n      <th>997</th>\n      <td>998</td>\n      <td>31.0</td>\n      <td>services</td>\n      <td>single</td>\n      <td>secondary</td>\n      <td>297</td>\n      <td>no</td>\n      <td>no</td>\n      <td>no</td>\n    </tr>\n    <tr>\n      <th>998</th>\n      <td>999</td>\n      <td>31.0</td>\n      <td>entrepreneur</td>\n      <td>NaN</td>\n      <td>tertiary</td>\n      <td>312</td>\n      <td>no</td>\n      <td>no</td>\n      <td>no</td>\n    </tr>\n    <tr>\n      <th>999</th>\n      <td>1000</td>\n      <td>23.0</td>\n      <td>blue-collar</td>\n      <td>single</td>\n      <td>secondary</td>\n      <td>780</td>\n      <td>yes</td>\n      <td>no</td>\n      <td>no</td>\n    </tr>\n  </tbody>\n</table>\n<p>1000 rows × 9 columns</p>\n</div>"
     },
     "execution_count": 7,
     "metadata": {},
     "output_type": "execute_result"
    }
   ],
   "source": [
    "cs = pd.read_csv('partner_data.csv')\n",
    "cs"
   ],
   "metadata": {
    "collapsed": false,
    "pycharm": {
     "name": "#%%\n"
    }
   }
  },
  {
   "cell_type": "code",
   "execution_count": null,
   "outputs": [],
   "source": [],
   "metadata": {
    "collapsed": false,
    "pycharm": {
     "name": "#%%\n"
    }
   }
  }
 ],
 "metadata": {
  "kernelspec": {
   "display_name": "Python 3",
   "language": "python",
   "name": "python3"
  },
  "language_info": {
   "codemirror_mode": {
    "name": "ipython",
    "version": 2
   },
   "file_extension": ".py",
   "mimetype": "text/x-python",
   "name": "python",
   "nbconvert_exporter": "python",
   "pygments_lexer": "ipython2",
   "version": "2.7.6"
  }
 },
 "nbformat": 4,
 "nbformat_minor": 0
}