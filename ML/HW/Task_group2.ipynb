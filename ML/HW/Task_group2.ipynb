{
 "cells": [
  {
   "cell_type": "markdown",
   "id": "4c1001c2-2ba2-49b2-9ad6-470d09cd5101",
   "metadata": {},
   "source": [
    "# Контрольная работа"
   ]
  },
  {
   "cell_type": "markdown",
   "id": "5baac696-c238-4939-86ea-c8761ba82830",
   "metadata": {},
   "source": [
    "Датасет состоит из следующих данных:\n",
    " - age - возраст\n",
    " - gender - пол\n",
    " - bmi - индекс массы тела\n",
    " - children - кол-во детей\n",
    " - smoker - курящий или нет\n",
    " - region - регион\n",
    " - country - страна\n",
    " - charges - сумма страховки\n",
    " \n",
    "Необходимо предсказать оптимальную стоимость стаховки на основе полученных данных."
   ]
  },
  {
   "cell_type": "markdown",
   "id": "8637d774-0530-476c-bfd8-65dedb63843a",
   "metadata": {},
   "source": [
    "## Импорт библиотек"
   ]
  },
  {
   "cell_type": "code",
   "execution_count": 2,
   "id": "9089c957-1818-4394-b4b9-fdb247b75243",
   "metadata": {},
   "outputs": [],
   "source": [
    "import matplotlib.pyplot as plt\n",
    "import pandas as pd\n",
    "\n",
    "from sklearn.linear_model import LogisticRegression, LinearRegression\n",
    "from sklearn.metrics import accuracy_score, confusion_matrix, mean_absolute_error\n",
    "from sklearn.model_selection import train_test_split\n",
    "from sklearn.neural_network import MLPClassifier\n",
    "from sklearn.neural_network import MLPRegressor"
   ]
  },
  {
   "cell_type": "markdown",
   "id": "86dbcb61-8ae6-402d-a5fa-a1968ff4a700",
   "metadata": {},
   "source": [
    "## Data preporation"
   ]
  },
  {
   "cell_type": "markdown",
   "id": "cc7b54b3-be01-40f5-924b-21da87f5bf35",
   "metadata": {},
   "source": [
    "На этом этапе нужно: \n",
    "1. Посмотреть на размер датасета\n",
    "2. Обработать пропуски"
   ]
  },
  {
   "cell_type": "code",
   "execution_count": 36,
   "id": "f980ae13-9ec3-4c8b-826b-85267277f583",
   "metadata": {},
   "outputs": [],
   "source": [
    "df = pd.read_csv(\"insurance.csv\")"
   ]
  },
  {
   "cell_type": "code",
   "execution_count": 39,
   "outputs": [
    {
     "name": "stdout",
     "output_type": "stream",
     "text": [
      "age 0\n",
      "gender 0\n",
      "bmi 0\n",
      "children 0\n",
      "smoker 0\n",
      "region 0\n",
      "charges 0\n",
      "(1323, 7)\n"
     ]
    }
   ],
   "source": [
    "for i in df.columns:\n",
    "    print(i, df[i].isna().sum())\n",
    "print(df.shape)"
   ],
   "metadata": {
    "collapsed": false,
    "pycharm": {
     "name": "#%%\n"
    }
   }
  },
  {
   "cell_type": "code",
   "execution_count": 38,
   "outputs": [],
   "source": [
    "df.pop(\"country\")\n",
    "df.drop(df.index[(df[\"bmi\"].isna())],axis=0,inplace=True)\n",
    "df.drop(df.index[(df[\"smoker\"].isna())],axis=0,inplace=True)\n"
   ],
   "metadata": {
    "collapsed": false,
    "pycharm": {
     "name": "#%%\n"
    }
   }
  },
  {
   "cell_type": "code",
   "execution_count": 77,
   "outputs": [
    {
     "data": {
      "text/plain": "    count\n0      69\n1      64\n2      29\n3      28\n4      28\n5      28\n6      27\n7      28\n8      28\n9      28\n10     28\n11     27\n12     27\n13     27\n14     25\n15     26\n16     26\n17     25\n18     24\n19     24\n20     25\n21     25\n22     27\n23     26\n24     27\n25     26\n26     27\n27     29\n28     28\n29     28\n30     29\n31     28\n32     28\n33     29\n34     29\n35     27\n36     28\n37     26\n38     26\n39     26\n40     25\n41     25\n42     23\n43     23\n44     23\n45     23\n46     21",
      "text/html": "<div>\n<style scoped>\n    .dataframe tbody tr th:only-of-type {\n        vertical-align: middle;\n    }\n\n    .dataframe tbody tr th {\n        vertical-align: top;\n    }\n\n    .dataframe thead th {\n        text-align: right;\n    }\n</style>\n<table border=\"1\" class=\"dataframe\">\n  <thead>\n    <tr style=\"text-align: right;\">\n      <th></th>\n      <th>count</th>\n    </tr>\n  </thead>\n  <tbody>\n    <tr>\n      <th>0</th>\n      <td>69</td>\n    </tr>\n    <tr>\n      <th>1</th>\n      <td>64</td>\n    </tr>\n    <tr>\n      <th>2</th>\n      <td>29</td>\n    </tr>\n    <tr>\n      <th>3</th>\n      <td>28</td>\n    </tr>\n    <tr>\n      <th>4</th>\n      <td>28</td>\n    </tr>\n    <tr>\n      <th>5</th>\n      <td>28</td>\n    </tr>\n    <tr>\n      <th>6</th>\n      <td>27</td>\n    </tr>\n    <tr>\n      <th>7</th>\n      <td>28</td>\n    </tr>\n    <tr>\n      <th>8</th>\n      <td>28</td>\n    </tr>\n    <tr>\n      <th>9</th>\n      <td>28</td>\n    </tr>\n    <tr>\n      <th>10</th>\n      <td>28</td>\n    </tr>\n    <tr>\n      <th>11</th>\n      <td>27</td>\n    </tr>\n    <tr>\n      <th>12</th>\n      <td>27</td>\n    </tr>\n    <tr>\n      <th>13</th>\n      <td>27</td>\n    </tr>\n    <tr>\n      <th>14</th>\n      <td>25</td>\n    </tr>\n    <tr>\n      <th>15</th>\n      <td>26</td>\n    </tr>\n    <tr>\n      <th>16</th>\n      <td>26</td>\n    </tr>\n    <tr>\n      <th>17</th>\n      <td>25</td>\n    </tr>\n    <tr>\n      <th>18</th>\n      <td>24</td>\n    </tr>\n    <tr>\n      <th>19</th>\n      <td>24</td>\n    </tr>\n    <tr>\n      <th>20</th>\n      <td>25</td>\n    </tr>\n    <tr>\n      <th>21</th>\n      <td>25</td>\n    </tr>\n    <tr>\n      <th>22</th>\n      <td>27</td>\n    </tr>\n    <tr>\n      <th>23</th>\n      <td>26</td>\n    </tr>\n    <tr>\n      <th>24</th>\n      <td>27</td>\n    </tr>\n    <tr>\n      <th>25</th>\n      <td>26</td>\n    </tr>\n    <tr>\n      <th>26</th>\n      <td>27</td>\n    </tr>\n    <tr>\n      <th>27</th>\n      <td>29</td>\n    </tr>\n    <tr>\n      <th>28</th>\n      <td>28</td>\n    </tr>\n    <tr>\n      <th>29</th>\n      <td>28</td>\n    </tr>\n    <tr>\n      <th>30</th>\n      <td>29</td>\n    </tr>\n    <tr>\n      <th>31</th>\n      <td>28</td>\n    </tr>\n    <tr>\n      <th>32</th>\n      <td>28</td>\n    </tr>\n    <tr>\n      <th>33</th>\n      <td>29</td>\n    </tr>\n    <tr>\n      <th>34</th>\n      <td>29</td>\n    </tr>\n    <tr>\n      <th>35</th>\n      <td>27</td>\n    </tr>\n    <tr>\n      <th>36</th>\n      <td>28</td>\n    </tr>\n    <tr>\n      <th>37</th>\n      <td>26</td>\n    </tr>\n    <tr>\n      <th>38</th>\n      <td>26</td>\n    </tr>\n    <tr>\n      <th>39</th>\n      <td>26</td>\n    </tr>\n    <tr>\n      <th>40</th>\n      <td>25</td>\n    </tr>\n    <tr>\n      <th>41</th>\n      <td>25</td>\n    </tr>\n    <tr>\n      <th>42</th>\n      <td>23</td>\n    </tr>\n    <tr>\n      <th>43</th>\n      <td>23</td>\n    </tr>\n    <tr>\n      <th>44</th>\n      <td>23</td>\n    </tr>\n    <tr>\n      <th>45</th>\n      <td>23</td>\n    </tr>\n    <tr>\n      <th>46</th>\n      <td>21</td>\n    </tr>\n  </tbody>\n</table>\n</div>"
     },
     "execution_count": 77,
     "metadata": {},
     "output_type": "execute_result"
    }
   ],
   "source": [
    "stats3 = df.groupby(['age'], as_index=False)[[\"age\"]].count()\n",
    "stats3 = stats3.rename(columns={'age': 'count'})\n",
    "stats3"
   ],
   "metadata": {
    "collapsed": false,
    "pycharm": {
     "name": "#%%\n"
    }
   }
  },
  {
   "cell_type": "markdown",
   "id": "14842453-b014-48e8-9218-4dbda1b54e19",
   "metadata": {},
   "source": [
    "## Feature Engineering"
   ]
  },
  {
   "cell_type": "markdown",
   "id": "b1d9f695-3e9c-414e-84a4-2064e6b2aa27",
   "metadata": {},
   "source": [
    "На этом эпате мы переводим категориальные данные в числовые"
   ]
  },
  {
   "cell_type": "code",
   "execution_count": 62,
   "outputs": [
    {
     "data": {
      "text/plain": "age           47\ngender         2\nbmi          544\nchildren       6\nsmoker         2\nregion         4\ncharges     1322\ndtype: int64"
     },
     "execution_count": 62,
     "metadata": {},
     "output_type": "execute_result"
    }
   ],
   "source": [
    "df[df.columns].nunique()"
   ],
   "metadata": {
    "collapsed": false,
    "pycharm": {
     "name": "#%%\n"
    }
   }
  },
  {
   "cell_type": "code",
   "execution_count": 73,
   "outputs": [
    {
     "data": {
      "text/plain": "      age  gender     bmi  children smoker     region      charges\n1      18    male  33.770         1     no  southeast   1725.55230\n2      28    male  33.000         3     no  southeast   4449.46200\n3      33    male  22.705         0     no  northwest  21984.47061\n4      32    male  28.880         0     no  northwest   3866.85520\n5      31  female  25.740         0     no  southeast   3756.62160\n...   ...     ...     ...       ...    ...        ...          ...\n1333   50    male  30.970         3     no  northwest  10600.54830\n1334   18  female  31.920         0     no  northeast   2205.98080\n1335   18  female  36.850         0     no  southeast   1629.83350\n1336   21  female  25.800         0     no  southwest   2007.94500\n1337   61  female  29.070         0    yes  northwest  29141.36030\n\n[1323 rows x 7 columns]",
      "text/html": "<div>\n<style scoped>\n    .dataframe tbody tr th:only-of-type {\n        vertical-align: middle;\n    }\n\n    .dataframe tbody tr th {\n        vertical-align: top;\n    }\n\n    .dataframe thead th {\n        text-align: right;\n    }\n</style>\n<table border=\"1\" class=\"dataframe\">\n  <thead>\n    <tr style=\"text-align: right;\">\n      <th></th>\n      <th>age</th>\n      <th>gender</th>\n      <th>bmi</th>\n      <th>children</th>\n      <th>smoker</th>\n      <th>region</th>\n      <th>charges</th>\n    </tr>\n  </thead>\n  <tbody>\n    <tr>\n      <th>1</th>\n      <td>18</td>\n      <td>male</td>\n      <td>33.770</td>\n      <td>1</td>\n      <td>no</td>\n      <td>southeast</td>\n      <td>1725.55230</td>\n    </tr>\n    <tr>\n      <th>2</th>\n      <td>28</td>\n      <td>male</td>\n      <td>33.000</td>\n      <td>3</td>\n      <td>no</td>\n      <td>southeast</td>\n      <td>4449.46200</td>\n    </tr>\n    <tr>\n      <th>3</th>\n      <td>33</td>\n      <td>male</td>\n      <td>22.705</td>\n      <td>0</td>\n      <td>no</td>\n      <td>northwest</td>\n      <td>21984.47061</td>\n    </tr>\n    <tr>\n      <th>4</th>\n      <td>32</td>\n      <td>male</td>\n      <td>28.880</td>\n      <td>0</td>\n      <td>no</td>\n      <td>northwest</td>\n      <td>3866.85520</td>\n    </tr>\n    <tr>\n      <th>5</th>\n      <td>31</td>\n      <td>female</td>\n      <td>25.740</td>\n      <td>0</td>\n      <td>no</td>\n      <td>southeast</td>\n      <td>3756.62160</td>\n    </tr>\n    <tr>\n      <th>...</th>\n      <td>...</td>\n      <td>...</td>\n      <td>...</td>\n      <td>...</td>\n      <td>...</td>\n      <td>...</td>\n      <td>...</td>\n    </tr>\n    <tr>\n      <th>1333</th>\n      <td>50</td>\n      <td>male</td>\n      <td>30.970</td>\n      <td>3</td>\n      <td>no</td>\n      <td>northwest</td>\n      <td>10600.54830</td>\n    </tr>\n    <tr>\n      <th>1334</th>\n      <td>18</td>\n      <td>female</td>\n      <td>31.920</td>\n      <td>0</td>\n      <td>no</td>\n      <td>northeast</td>\n      <td>2205.98080</td>\n    </tr>\n    <tr>\n      <th>1335</th>\n      <td>18</td>\n      <td>female</td>\n      <td>36.850</td>\n      <td>0</td>\n      <td>no</td>\n      <td>southeast</td>\n      <td>1629.83350</td>\n    </tr>\n    <tr>\n      <th>1336</th>\n      <td>21</td>\n      <td>female</td>\n      <td>25.800</td>\n      <td>0</td>\n      <td>no</td>\n      <td>southwest</td>\n      <td>2007.94500</td>\n    </tr>\n    <tr>\n      <th>1337</th>\n      <td>61</td>\n      <td>female</td>\n      <td>29.070</td>\n      <td>0</td>\n      <td>yes</td>\n      <td>northwest</td>\n      <td>29141.36030</td>\n    </tr>\n  </tbody>\n</table>\n<p>1323 rows × 7 columns</p>\n</div>"
     },
     "execution_count": 73,
     "metadata": {},
     "output_type": "execute_result"
    }
   ],
   "source": [
    "df"
   ],
   "metadata": {
    "collapsed": false,
    "pycharm": {
     "name": "#%%\n"
    }
   }
  },
  {
   "cell_type": "markdown",
   "source": [
    "## Modeling"
   ],
   "metadata": {
    "collapsed": false
   }
  },
  {
   "cell_type": "markdown",
   "id": "f104d47e-14cb-40e4-ae7f-502ab42881d8",
   "metadata": {},
   "source": [
    "1. Делим обработанный датасет на train и test. \n",
    "2. После выбираем и обучаем модель. \n",
    "3. Которую в конце оцениваем с помощью метрик."
   ]
  },
  {
   "cell_type": "code",
   "execution_count": null,
   "id": "cbea9477-55fd-4488-b92d-6504fbb2d70e",
   "metadata": {},
   "outputs": [],
   "source": [
    "#ваш код"
   ]
  }
 ],
 "metadata": {
  "kernelspec": {
   "display_name": "Python 3",
   "language": "python",
   "name": "python3"
  },
  "language_info": {
   "codemirror_mode": {
    "name": "ipython",
    "version": 3
   },
   "file_extension": ".py",
   "mimetype": "text/x-python",
   "name": "python",
   "nbconvert_exporter": "python",
   "pygments_lexer": "ipython3",
   "version": "3.9.13"
  }
 },
 "nbformat": 4,
 "nbformat_minor": 5
}